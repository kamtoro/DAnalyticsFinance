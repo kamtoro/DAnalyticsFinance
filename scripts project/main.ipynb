{
 "cells": [
  {
   "cell_type": "markdown",
   "id": "11d7f294-3d5a-4b8d-ad84-96d935e70572",
   "metadata": {},
   "source": [
    "# Main Script to Load, Transform and Analyse data for Final Assigment"
   ]
  },
  {
   "cell_type": "markdown",
   "id": "ddb71f65-cb15-4057-8674-30ebd3ea2cd7",
   "metadata": {},
   "source": [
    "## Data load from local file \"HM Land Registry - Price Paid Data property sales in Greater London - Raw Data.csv\""
   ]
  },
  {
   "cell_type": "markdown",
   "id": "cac4243e-c0d3-4ee0-b726-3d033c76b351",
   "metadata": {},
   "source": [
    "# Import required libraries"
   ]
  },
  {
   "cell_type": "code",
   "execution_count": 1,
   "id": "7bc898e7-fe6f-406b-9de0-d88f55503072",
   "metadata": {},
   "outputs": [],
   "source": [
    "import pandas as pd\n",
    "import numpy as np\n",
    "import matplotlib.pyplot as plt\n",
    "import locale # Used \n",
    "import yaml # Used to manage configuration Parameters, I'm using it at work and it's so easy to set configurable constant values "
   ]
  },
  {
   "cell_type": "markdown",
   "id": "2352bb94-dcba-4343-aef5-0aab5da8b059",
   "metadata": {},
   "source": [
    "# Loading config file"
   ]
  },
  {
   "cell_type": "code",
   "execution_count": 2,
   "id": "c7d03640-70e7-430c-8e7d-5877e1889ce4",
   "metadata": {},
   "outputs": [],
   "source": [
    "cnf_file = open(f\"config.yaml\", 'r')\n",
    "conf_dictionary = yaml.full_load(cnf_file)\n",
    "config = conf_dictionary[\"default\"]"
   ]
  },
  {
   "cell_type": "markdown",
   "id": "96b8fe86-4f7e-4d1c-8a5f-d3fb5ccf91e7",
   "metadata": {},
   "source": [
    "# Load data from CSV file"
   ]
  },
  {
   "cell_type": "code",
   "execution_count": 3,
   "id": "2f024eaa-63c1-4829-9a6f-9efbf5f4e3f1",
   "metadata": {},
   "outputs": [],
   "source": [
    "df1 = pd.read_csv(\"Property sales in Greater London - 2018 - 2019.csv\", parse_dates=[config['parse_dates']])\n",
    "df2 = pd.read_csv(\"Property sales in Greater London - 2020 - 2023.csv\", parse_dates=[config['parse_dates']])"
   ]
  },
  {
   "cell_type": "markdown",
   "id": "1ecf4c2b-b60a-4a3d-bc16-debec27b1f95",
   "metadata": {},
   "source": [
    "# Merging both dataframes"
   ]
  },
  {
   "cell_type": "code",
   "execution_count": 4,
   "id": "290f4f73-7009-4484-8450-cb62aa4fac7c",
   "metadata": {},
   "outputs": [
    {
     "name": "stdout",
     "output_type": "stream",
     "text": [
      "<class 'pandas.core.frame.DataFrame'>\n",
      "Int64Index: 489352 entries, 0 to 287274\n",
      "Data columns (total 16 columns):\n",
      " #   Column                Non-Null Count   Dtype         \n",
      "---  ------                --------------   -----         \n",
      " 0   unique_id             489352 non-null  object        \n",
      " 1   price_paid            489352 non-null  int64         \n",
      " 2   deed_date             489352 non-null  datetime64[ns]\n",
      " 3   postcode              488916 non-null  object        \n",
      " 4   property_type         489352 non-null  object        \n",
      " 5   new_build             489352 non-null  object        \n",
      " 6   estate_type           489352 non-null  object        \n",
      " 7   saon                  183047 non-null  object        \n",
      " 8   paon                  489352 non-null  object        \n",
      " 9   street                489312 non-null  object        \n",
      " 10  locality              31256 non-null   object        \n",
      " 11  town                  489352 non-null  object        \n",
      " 12  district              489352 non-null  object        \n",
      " 13  county                489352 non-null  object        \n",
      " 14  transaction_category  489352 non-null  object        \n",
      " 15  linked_data_uri       489352 non-null  object        \n",
      "dtypes: datetime64[ns](1), int64(1), object(14)\n",
      "memory usage: 63.5+ MB\n"
     ]
    }
   ],
   "source": [
    "df = pd.concat([df1, df2])\n",
    "df.info()"
   ]
  },
  {
   "cell_type": "markdown",
   "id": "ca5641c9-b2ea-46fd-b5b8-c2b0d1c78b4f",
   "metadata": {},
   "source": [
    "# Renaming columns from both DFs"
   ]
  },
  {
   "cell_type": "code",
   "execution_count": 5,
   "id": "b55a4d80-ec27-4b20-b087-5362bce50c76",
   "metadata": {},
   "outputs": [],
   "source": [
    "keys   = ['unique_id','price_paid','deed_date','postcode','property_type','new_build','estate_type','saon','paon','street','locality','town','district','county','transaction_category','linked_data_uri']\n",
    "values = ['Id','Value','Purchased Date','Postcode','Property Type','New Build','Estate Type','Saon','Paon','Street','Locality','Town','District','County','Transaction Category','URL']\n",
    "dict_cols = dict(zip(keys, values))\n",
    "df.rename(columns=dict_cols, inplace=True)\n",
    "col_order = ['Id','Purchased Date','Postcode','Property Type','Value','New Build','Estate Type','Transaction Category','Saon','Paon','Street','Locality','Town','District','County','URL']\n",
    "df = df[col_order]"
   ]
  },
  {
   "cell_type": "code",
   "execution_count": 6,
   "id": "002030a6-4669-4d4f-ac79-89f03a8315a7",
   "metadata": {},
   "outputs": [
    {
     "data": {
      "text/plain": [
       "0        2018-11-30\n",
       "1        2019-12-09\n",
       "2        2019-10-16\n",
       "3        2018-11-23\n",
       "4        2019-07-05\n",
       "            ...    \n",
       "287270   2020-01-21\n",
       "287271   2020-02-07\n",
       "287272   2020-08-28\n",
       "287273   2021-02-19\n",
       "287274   2020-10-30\n",
       "Name: Purchased Date, Length: 489352, dtype: datetime64[ns]"
      ]
     },
     "execution_count": 6,
     "metadata": {},
     "output_type": "execute_result"
    }
   ],
   "source": [
    "df['Purchased Date']"
   ]
  },
  {
   "cell_type": "markdown",
   "id": "0bacf845-5156-4593-9b64-6211521467f5",
   "metadata": {},
   "source": [
    "# Explore the data"
   ]
  },
  {
   "cell_type": "code",
   "execution_count": 7,
   "id": "6110c0e2-fe67-44b5-86d7-fb48f53c08d8",
   "metadata": {},
   "outputs": [
    {
     "name": "stdout",
     "output_type": "stream",
     "text": [
      "Dataframe head:\n",
      "                                     Id Purchased Date Postcode Property Type  \\\n",
      "0  7E86B6FB-423C-458C-E053-6B04A8C0C84C     2018-11-30  BR1 1AA             F   \n",
      "1  9DBAD222-2B0C-6EB3-E053-6B04A8C0F257     2019-12-09  BR1 1AB             F   \n",
      "2  965B6D91-D514-95E4-E053-6C04A8C07729     2019-10-16  BR1 1AE             F   \n",
      "3  7E86B6FB-4232-458C-E053-6B04A8C0C84C     2018-11-23  BR1 1AF             F   \n",
      "4  9FF0D96A-1CCA-11ED-E053-6C04A8C06383     2019-07-05  BR1 1AF             F   \n",
      "\n",
      "    Value New Build Estate Type Transaction Category         Saon  \\\n",
      "0   99000         N           L                    A      FLAT 28   \n",
      "1  445000         N           L                    A  APARTMENT 1   \n",
      "2  255000         N           L                    B       FLAT 2   \n",
      "3  400000         N           L                    A      FLAT 12   \n",
      "4  380000         N           L                    A      FLAT 14   \n",
      "\n",
      "                      Paon        Street Locality     Town District  \\\n",
      "0              HENRY HOUSE  RINGERS ROAD      NaN  BROMLEY  BROMLEY   \n",
      "1  THE OLD POST OFFICE, 3B   EAST STREET      NaN  BROMLEY  BROMLEY   \n",
      "2         HAWKSWORTH HOUSE     TETTY WAY      NaN  BROMLEY  BROMLEY   \n",
      "3            WILLIAM HOUSE  RINGERS ROAD      NaN  BROMLEY  BROMLEY   \n",
      "4            WILLIAM HOUSE  RINGERS ROAD      NaN  BROMLEY  BROMLEY   \n",
      "\n",
      "           County                                                URL  \n",
      "0  GREATER LONDON  http://landregistry.data.gov.uk/data/ppi/trans...  \n",
      "1  GREATER LONDON  http://landregistry.data.gov.uk/data/ppi/trans...  \n",
      "2  GREATER LONDON  http://landregistry.data.gov.uk/data/ppi/trans...  \n",
      "3  GREATER LONDON  http://landregistry.data.gov.uk/data/ppi/trans...  \n",
      "4  GREATER LONDON  http://landregistry.data.gov.uk/data/ppi/trans...  \n",
      "Dataframe shape:\n",
      "(489352, 16)\n",
      "Dataframe columns:\n",
      "Index(['Id', 'Purchased Date', 'Postcode', 'Property Type', 'Value',\n",
      "       'New Build', 'Estate Type', 'Transaction Category', 'Saon', 'Paon',\n",
      "       'Street', 'Locality', 'Town', 'District', 'County', 'URL'],\n",
      "      dtype='object')\n"
     ]
    }
   ],
   "source": [
    "print(\"Dataframe head:\")\n",
    "print(df.head())\n",
    "\n",
    "print(\"Dataframe shape:\")\n",
    "print(df.shape )\n",
    "\n",
    "print(\"Dataframe columns:\")\n",
    "print(df.columns)\n"
   ]
  },
  {
   "cell_type": "markdown",
   "id": "02a2012a-c435-4929-9634-2b09c7325278",
   "metadata": {},
   "source": [
    "# Index of Property Market - Yearly Variation"
   ]
  },
  {
   "cell_type": "markdown",
   "id": "4fc67a31-03f9-441d-9f21-f787237e6250",
   "metadata": {},
   "source": [
    "### Convert date column to datetime format, set it as index and create a Year column out of it"
   ]
  },
  {
   "cell_type": "code",
   "execution_count": 8,
   "id": "31c727b7-f830-4802-807f-2e2820fc6e90",
   "metadata": {},
   "outputs": [],
   "source": [
    "df['Purchased Date'] = pd.to_datetime(df['Purchased Date'])\n",
    "df.set_index('Purchased Date', inplace=True)\n",
    "df['Year'] = df.index.year"
   ]
  },
  {
   "cell_type": "markdown",
   "id": "d75008e0-15e3-4f48-a717-f6c163bde20c",
   "metadata": {},
   "source": [
    "### Set date column as the index"
   ]
  },
  {
   "cell_type": "markdown",
   "id": "557bf583-da15-4efc-8f87-f5a0997bf597",
   "metadata": {},
   "source": [
    "### Group data by year, aggregate by value and plot this"
   ]
  },
  {
   "cell_type": "code",
   "execution_count": 50,
   "id": "e36650d7-f72e-43a1-bc1e-9abbcacc6c6d",
   "metadata": {},
   "outputs": [
    {
     "data": {
      "image/png": "[encoded data removed]",
      "text/plain": [
       "<Figure size 432x288 with 1 Axes>"
      ]
     },
     "metadata": {
      "needs_background": "light"
     },
     "output_type": "display_data"
    }
   ],
   "source": [
    "df_avg = df.groupby('Year')['Value'].mean()\n",
    "\n",
    "# Set the locale to display the currency format\n",
    "locale.setlocale(locale.LC_ALL, '')\n",
    "\n",
    "plt.plot(df_avg.index, df_avg.values)\n",
    "plt.xlabel('Year')\n",
    "plt.ylabel('Avg Property Value')\n",
    "plt.title('Average Property Value in Greater London for Last 5 years')\n",
    "# zip joins x and y coordinates in pairs\n",
    "plt.rcParams.update({'axes.ymargin': 0.2})\n",
    "plt.rcParams.update({'axes.xmargin': 0.5})\n",
    "for x,y in zip(df_avg.index, df_avg.values):\n",
    "\n",
    "    label = \"{:.0f}\".format(y)\n",
    "    label = locale.currency(y, grouping=True)[:-3]\n",
    "    plt.annotate(label, # this is the text\n",
    "                 (x,y), # these are the coordinates to position the label\n",
    "                 textcoords=\"offset points\", # how to position the text\n",
    "                 xytext=(0,10), # distance from text to points (x,y)\n",
    "                 ha='center',\n",
    "                 annotation_clip=False) # horizontal alignment can be left, right or center\n",
    "\n",
    "# for i, xy in enumerate(zip(df_avg.index, df_avg.values)):\n",
    "#     plt.annotate(f' Point (%.0f, {locale.currency(\"%.3f\")})' % xy, xy=xy)\n",
    "\n",
    "# for xi, yi, text in zip(df_avg.index, df_avg.values, annotations):\n",
    "#     ax.annotate(text,\n",
    "#                 xy=(xi, yi), xycoords='data',\n",
    "#                 xytext=(1.5, 1.5), textcoords='offset points')\n",
    "plt.show()\n"
   ]
  },
  {
   "cell_type": "code",
   "execution_count": 48,
   "id": "e5d85b6e-7c29-4850-910f-5477272af18a",
   "metadata": {},
   "outputs": [
    {
     "data": {
      "image/png": "[encoded data removed]",
      "text/plain": [
       "<Figure size 432x288 with 1 Axes>"
      ]
     },
     "metadata": {
      "needs_background": "light"
     },
     "output_type": "display_data"
    }
   ],
   "source": [
    "\n",
    "# Set the locale to display the currency format\n",
    "locale.setlocale(locale.LC_ALL, '')\n",
    "\n",
    "# Enumerate over the grouped data and format the values as currency\n",
    "formatted_data = [(str(year), locale.currency(avg)) for year, avg in df_avg.iteritems()]\n",
    "\n",
    "# Plot the data\n",
    "pltb.bar(*zip(*formatted_data))\n",
    "pltb.xlabel('Year')\n",
    "pltb.ylabel('Average Numeric Column')\n",
    "pltb.show()"
   ]
  },
  {
   "cell_type": "code",
   "execution_count": null,
   "id": "2eb0aa78-948f-4805-9f82-83e41115da25",
   "metadata": {},
   "outputs": [],
   "source": []
  },
  {
   "cell_type": "code",
   "execution_count": null,
   "id": "8bc1ec74-9a87-41f0-ab00-4b4aadf471a1",
   "metadata": {},
   "outputs": [],
   "source": []
  },
  {
   "cell_type": "markdown",
   "id": "6821e95b-4704-46cb-9167-5e4706df7a03",
   "metadata": {},
   "source": [
    "### Calculate the average of a numeric column for each year"
   ]
  },
  {
   "cell_type": "code",
   "execution_count": null,
   "id": "7891b349-6002-49ab-b52b-34e6ceae4ff9",
   "metadata": {},
   "outputs": [],
   "source": [
    "\n",
    "grouped_by_year = df.asfreq('Y')\n"
   ]
  },
  {
   "cell_type": "code",
   "execution_count": null,
   "id": "6bf21bca-2eca-41df-9954-5ad8ea61f294",
   "metadata": {},
   "outputs": [],
   "source": [
    "averages_per_year = grouped_by_year['Value'].aggregate('mean')"
   ]
  },
  {
   "cell_type": "code",
   "execution_count": null,
   "id": "2cadc7e2-fcba-4d10-9803-72af0a22dd30",
   "metadata": {},
   "outputs": [],
   "source": [
    "averages_per_year.head()"
   ]
  },
  {
   "cell_type": "code",
   "execution_count": null,
   "id": "593e6522-50a8-4c71-a53f-cd2770a6d128",
   "metadata": {},
   "outputs": [],
   "source": [
    "# Compare annual avg price trends"
   ]
  },
  {
   "cell_type": "code",
   "execution_count": null,
   "id": "bd301fbc-22e3-4961-af75-90d2b3dffb15",
   "metadata": {},
   "outputs": [],
   "source": [
    "config['years_to_aggregate']"
   ]
  },
  {
   "cell_type": "code",
   "execution_count": null,
   "id": "77773d84-1499-4315-94cf-b1d7a8f8a680",
   "metadata": {},
   "outputs": [],
   "source": [
    "avg_values = pd.DataFrame()\n",
    "\n",
    "# Select data for each year and concatenate with avg. property values \n",
    "for year in years_to_aggregate:\n",
    "    value_per_year = df.loc[year, ['Value']].reset_index(drop=True)\n",
    "    value_per_year.rename(columns={'Value': year}, inplace=True)\n",
    "    avg_values = pd.concat([prices, value_per_year], axis=1)\n",
    "\n",
    "# Plot prices\n",
    "avg_values.plot(subplots=True)\n",
    "plt.tight_layout(); plt.show()\n"
   ]
  },
  {
   "cell_type": "code",
   "execution_count": null,
   "id": "2ed66b1b-0c97-43ec-a8ca-4eb588e8ac73",
   "metadata": {},
   "outputs": [],
   "source": []
  },
  {
   "cell_type": "code",
   "execution_count": null,
   "id": "f9a7927a-7f01-4e6f-af2f-58f85ad5204f",
   "metadata": {},
   "outputs": [],
   "source": []
  },
  {
   "cell_type": "code",
   "execution_count": null,
   "id": "0be54c75-d891-4d69-9688-84e1b05f7688",
   "metadata": {},
   "outputs": [],
   "source": []
  },
  {
   "cell_type": "code",
   "execution_count": null,
   "id": "70d6c958-ce59-4a01-8539-834c7eae03fa",
   "metadata": {},
   "outputs": [],
   "source": []
  }
 ],
 "metadata": {
  "kernelspec": {
   "display_name": "Python 3",
   "language": "python",
   "name": "python3"
  },
  "language_info": {
   "codemirror_mode": {
    "name": "ipython",
    "version": 3
   },
   "file_extension": ".py",
   "mimetype": "text/x-python",
   "name": "python",
   "nbconvert_exporter": "python",
   "pygments_lexer": "ipython3",
   "version": "3.8.8"
  }
 },
 "nbformat": 4,
 "nbformat_minor": 5
}
