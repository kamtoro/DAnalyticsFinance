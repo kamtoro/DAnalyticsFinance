{
 "cells": [
  {
   "cell_type": "code",
   "execution_count": null,
   "id": "e5b0be56",
   "metadata": {},
   "outputs": [],
   "source": [
    "# Main Script to Load, Transform and Analyse data for Final Assigment"
   ]
  },
  {
   "cell_type": "code",
   "execution_count": 1,
   "id": "2ef53942",
   "metadata": {},
   "outputs": [],
   "source": [
    "## Data load from local file \"HM Land Registry - Price Paid Data property sales in Greater London - Raw Data.csv\""
   ]
  },
  {
   "cell_type": "code",
   "execution_count": 7,
   "id": "4ed4b736",
   "metadata": {},
   "outputs": [
    {
     "name": "stdout",
     "output_type": "stream",
     "text": [
      "Dataframe head:\n",
      "                                     Id Purchased On Postcode Property Type  \\\n",
      "0  7E86B6FB-423C-458C-E053-6B04A8C0C84C   2018-11-30  BR1 1AA             F   \n",
      "1  9DBAD222-2B0C-6EB3-E053-6B04A8C0F257   2019-12-09  BR1 1AB             F   \n",
      "2  965B6D91-D514-95E4-E053-6C04A8C07729   2019-10-16  BR1 1AE             F   \n",
      "3  7E86B6FB-4232-458C-E053-6B04A8C0C84C   2018-11-23  BR1 1AF             F   \n",
      "4  9FF0D96A-1CCA-11ED-E053-6C04A8C06383   2019-07-05  BR1 1AF             F   \n",
      "\n",
      "    Value New Build Estate Type Transaction Category         Saon  \\\n",
      "0   99000         N           L                    A      FLAT 28   \n",
      "1  445000         N           L                    A  APARTMENT 1   \n",
      "2  255000         N           L                    B       FLAT 2   \n",
      "3  400000         N           L                    A      FLAT 12   \n",
      "4  380000         N           L                    A      FLAT 14   \n",
      "\n",
      "                      Paon        Street Locality     Town District  \\\n",
      "0              HENRY HOUSE  RINGERS ROAD      NaN  BROMLEY  BROMLEY   \n",
      "1  THE OLD POST OFFICE, 3B   EAST STREET      NaN  BROMLEY  BROMLEY   \n",
      "2         HAWKSWORTH HOUSE     TETTY WAY      NaN  BROMLEY  BROMLEY   \n",
      "3            WILLIAM HOUSE  RINGERS ROAD      NaN  BROMLEY  BROMLEY   \n",
      "4            WILLIAM HOUSE  RINGERS ROAD      NaN  BROMLEY  BROMLEY   \n",
      "\n",
      "           County                                                URL  \n",
      "0  GREATER LONDON  http://landregistry.data.gov.uk/data/ppi/trans...  \n",
      "1  GREATER LONDON  http://landregistry.data.gov.uk/data/ppi/trans...  \n",
      "2  GREATER LONDON  http://landregistry.data.gov.uk/data/ppi/trans...  \n",
      "3  GREATER LONDON  http://landregistry.data.gov.uk/data/ppi/trans...  \n",
      "4  GREATER LONDON  http://landregistry.data.gov.uk/data/ppi/trans...  \n",
      "Dataframe shape:\n",
      "(202077, 16)\n",
      "(287275, 16)\n",
      "(489352, 16)\n",
      "Dataframe columns:\n",
      "Index(['Id', 'Purchased On', 'Postcode', 'Property Type', 'Value', 'New Build',\n",
      "       'Estate Type', 'Transaction Category', 'Saon', 'Paon', 'Street',\n",
      "       'Locality', 'Town', 'District', 'County', 'URL'],\n",
      "      dtype='object')\n"
     ]
    }
   ],
   "source": [
    "# Import required libraries\n",
    "import pandas as pd\n",
    "import numpy as np\n",
    "\n",
    "# Load data from CSV file\n",
    "df1 = pd.read_csv(\"Property sales in Greater London - 2018 - 2019.csv\")\n",
    "df2 = pd.read_csv(\"Property sales in Greater London - 2020 - 2023.csv\")\n",
    "# Merging both dataframes\n",
    "df = pd.concat([df1, df2])\n",
    "\n",
    "# Renaming columns from both DFs\n",
    "keys = ['unique_id','price_paid','deed_date','postcode','property_type','new_build','estate_type','saon','paon','street','locality','town','district','county','transaction_category','linked_data_uri']\n",
    "values = ['Id','Value','Purchased On','Postcode','Property Type','New Build','Estate Type','Saon','Paon','Street','Locality','Town','District','County','Transaction Category','URL']\n",
    "dict_cols = dict(zip(keys, values))\n",
    "df.rename(columns=dict_cols, inplace=True)\n",
    "col_order = ['Id','Purchased On','Postcode','Property Type','Value','New Build','Estate Type','Transaction Category','Saon','Paon','Street','Locality','Town','District','County','URL']\n",
    "df = df[col_order]\n",
    "\n",
    "# Explore the data\n",
    "print(\"Dataframe head:\")\n",
    "print(df.head())\n",
    "\n",
    "print(\"Dataframe shape:\")\n",
    "print(df1.shape)\n",
    "print(df2.shape)\n",
    "print(df.shape)\n",
    "\n",
    "print(\"Dataframe columns:\")\n",
    "print(df.columns)\n"
   ]
  },
  {
   "cell_type": "code",
   "execution_count": null,
   "id": "4342aa13",
   "metadata": {},
   "outputs": [],
   "source": []
  },
  {
   "cell_type": "code",
   "execution_count": null,
   "id": "c1f94cf7",
   "metadata": {},
   "outputs": [],
   "source": []
  },
  {
   "cell_type": "code",
   "execution_count": null,
   "id": "27d2dd32",
   "metadata": {},
   "outputs": [],
   "source": []
  }
 ],
 "metadata": {
  "kernelspec": {
   "display_name": "Python 3",
   "language": "python",
   "name": "python3"
  },
  "language_info": {
   "codemirror_mode": {
    "name": "ipython",
    "version": 3
   },
   "file_extension": ".py",
   "mimetype": "text/x-python",
   "name": "python",
   "nbconvert_exporter": "python",
   "pygments_lexer": "ipython3",
   "version": "3.8.8"
  }
 },
 "nbformat": 4,
 "nbformat_minor": 5
}
