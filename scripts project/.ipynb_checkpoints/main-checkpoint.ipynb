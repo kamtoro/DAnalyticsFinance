{
 "cells": [
  {
   "cell_type": "markdown",
   "id": "11d7f294-3d5a-4b8d-ad84-96d935e70572",
   "metadata": {},
   "source": [
    "# Main Script to Load, Transform and Analyse data for Final Assigment"
   ]
  },
  {
   "cell_type": "markdown",
   "id": "ddb71f65-cb15-4057-8674-30ebd3ea2cd7",
   "metadata": {},
   "source": [
    "## Data load from local file \"HM Land Registry - Price Paid Data property sales in Greater London - Raw Data.csv\""
   ]
  },
  {
   "cell_type": "markdown",
   "id": "cac4243e-c0d3-4ee0-b726-3d033c76b351",
   "metadata": {},
   "source": [
    "# Import required libraries"
   ]
  },
  {
   "cell_type": "code",
   "execution_count": 1,
   "id": "7bc898e7-fe6f-406b-9de0-d88f55503072",
   "metadata": {},
   "outputs": [],
   "source": [
    "import pandas as pd\n",
    "import numpy as np\n",
    "import matplotlib.pyplot as plt\n",
    "import yaml # Used to manage configuration Parameters, I'm using it at work and it's so easy to set configurable constant values "
   ]
  },
  {
   "cell_type": "markdown",
   "id": "2352bb94-dcba-4343-aef5-0aab5da8b059",
   "metadata": {},
   "source": [
    "# Loading config file"
   ]
  },
  {
   "cell_type": "code",
   "execution_count": 2,
   "id": "c7d03640-70e7-430c-8e7d-5877e1889ce4",
   "metadata": {},
   "outputs": [],
   "source": [
    "cnf_file = open(f\"config.yaml\", 'r')\n",
    "conf_dictionary = yaml.full_load(cnf_file)\n",
    "config = conf_dictionary[\"default\"]"
   ]
  },
  {
   "cell_type": "markdown",
   "id": "96b8fe86-4f7e-4d1c-8a5f-d3fb5ccf91e7",
   "metadata": {},
   "source": [
    "# Load data from CSV file"
   ]
  },
  {
   "cell_type": "code",
   "execution_count": 3,
   "id": "2f024eaa-63c1-4829-9a6f-9efbf5f4e3f1",
   "metadata": {},
   "outputs": [],
   "source": [
    "df1 = pd.read_csv(\"Property sales in Greater London - 2018 - 2019.csv\", parse_dates=[config['parse_dates']])\n",
    "df2 = pd.read_csv(\"Property sales in Greater London - 2020 - 2023.csv\", parse_dates=[config['parse_dates']])"
   ]
  },
  {
   "cell_type": "markdown",
   "id": "1ecf4c2b-b60a-4a3d-bc16-debec27b1f95",
   "metadata": {},
   "source": [
    "# Merging both dataframes"
   ]
  },
  {
   "cell_type": "code",
   "execution_count": 4,
   "id": "290f4f73-7009-4484-8450-cb62aa4fac7c",
   "metadata": {},
   "outputs": [
    {
     "name": "stdout",
     "output_type": "stream",
     "text": [
      "<class 'pandas.core.frame.DataFrame'>\n",
      "Int64Index: 489352 entries, 0 to 287274\n",
      "Data columns (total 16 columns):\n",
      " #   Column                Non-Null Count   Dtype         \n",
      "---  ------                --------------   -----         \n",
      " 0   unique_id             489352 non-null  object        \n",
      " 1   price_paid            489352 non-null  int64         \n",
      " 2   deed_date             489352 non-null  datetime64[ns]\n",
      " 3   postcode              488916 non-null  object        \n",
      " 4   property_type         489352 non-null  object        \n",
      " 5   new_build             489352 non-null  object        \n",
      " 6   estate_type           489352 non-null  object        \n",
      " 7   saon                  183047 non-null  object        \n",
      " 8   paon                  489352 non-null  object        \n",
      " 9   street                489312 non-null  object        \n",
      " 10  locality              31256 non-null   object        \n",
      " 11  town                  489352 non-null  object        \n",
      " 12  district              489352 non-null  object        \n",
      " 13  county                489352 non-null  object        \n",
      " 14  transaction_category  489352 non-null  object        \n",
      " 15  linked_data_uri       489352 non-null  object        \n",
      "dtypes: datetime64[ns](1), int64(1), object(14)\n",
      "memory usage: 63.5+ MB\n"
     ]
    }
   ],
   "source": [
    "df = pd.concat([df1, df2])\n",
    "df.info()"
   ]
  },
  {
   "cell_type": "markdown",
   "id": "ca5641c9-b2ea-46fd-b5b8-c2b0d1c78b4f",
   "metadata": {},
   "source": [
    "# Renaming columns from both DFs"
   ]
  },
  {
   "cell_type": "markdown",
   "id": "576e4339-ca83-455b-88a0-8aa6f68cfe54",
   "metadata": {},
   "source": [
    "keys   = ['unique_id','price_paid','deed_date','postcode','property_type','new_build','estate_type','saon','paon','street','locality','town','district','county','transaction_category','linked_data_uri']\n",
    "values = ['Id','Value','Purchased On','Postcode','Property Type','New Build','Estate Type','Saon','Paon','Street','Locality','Town','District','County','Transaction Category','URL']\n",
    "dict_cols = dict(zip(keys, values))\n",
    "df.rename(columns=dict_cols, inplace=True)\n",
    "col_order = ['Id','Purchased On','Postcode','Property Type','Value','New Build','Estate Type','Transaction Category','Saon','Paon','Street','Locality','Town','District','County','URL']\n",
    "df = df[col_order]"
   ]
  },
  {
   "cell_type": "markdown",
   "id": "0bacf845-5156-4593-9b64-6211521467f5",
   "metadata": {},
   "source": [
    "# Explore the data"
   ]
  },
  {
   "cell_type": "code",
   "execution_count": 5,
   "id": "6110c0e2-fe67-44b5-86d7-fb48f53c08d8",
   "metadata": {},
   "outputs": [
    {
     "name": "stdout",
     "output_type": "stream",
     "text": [
      "Dataframe head:\n",
      "                              unique_id  price_paid  deed_date postcode  \\\n",
      "0  7E86B6FB-423C-458C-E053-6B04A8C0C84C       99000 2018-11-30  BR1 1AA   \n",
      "1  9DBAD222-2B0C-6EB3-E053-6B04A8C0F257      445000 2019-12-09  BR1 1AB   \n",
      "2  965B6D91-D514-95E4-E053-6C04A8C07729      255000 2019-10-16  BR1 1AE   \n",
      "3  7E86B6FB-4232-458C-E053-6B04A8C0C84C      400000 2018-11-23  BR1 1AF   \n",
      "4  9FF0D96A-1CCA-11ED-E053-6C04A8C06383      380000 2019-07-05  BR1 1AF   \n",
      "\n",
      "  property_type new_build estate_type         saon                     paon  \\\n",
      "0             F         N           L      FLAT 28              HENRY HOUSE   \n",
      "1             F         N           L  APARTMENT 1  THE OLD POST OFFICE, 3B   \n",
      "2             F         N           L       FLAT 2         HAWKSWORTH HOUSE   \n",
      "3             F         N           L      FLAT 12            WILLIAM HOUSE   \n",
      "4             F         N           L      FLAT 14            WILLIAM HOUSE   \n",
      "\n",
      "         street locality     town district          county  \\\n",
      "0  RINGERS ROAD      NaN  BROMLEY  BROMLEY  GREATER LONDON   \n",
      "1   EAST STREET      NaN  BROMLEY  BROMLEY  GREATER LONDON   \n",
      "2     TETTY WAY      NaN  BROMLEY  BROMLEY  GREATER LONDON   \n",
      "3  RINGERS ROAD      NaN  BROMLEY  BROMLEY  GREATER LONDON   \n",
      "4  RINGERS ROAD      NaN  BROMLEY  BROMLEY  GREATER LONDON   \n",
      "\n",
      "  transaction_category                                    linked_data_uri  \n",
      "0                    A  http://landregistry.data.gov.uk/data/ppi/trans...  \n",
      "1                    A  http://landregistry.data.gov.uk/data/ppi/trans...  \n",
      "2                    B  http://landregistry.data.gov.uk/data/ppi/trans...  \n",
      "3                    A  http://landregistry.data.gov.uk/data/ppi/trans...  \n",
      "4                    A  http://landregistry.data.gov.uk/data/ppi/trans...  \n",
      "Dataframe shape:\n",
      "(202077, 16)\n",
      "(287275, 16)\n",
      "(489352, 16)\n",
      "Dataframe columns:\n",
      "Index(['unique_id', 'price_paid', 'deed_date', 'postcode', 'property_type',\n",
      "       'new_build', 'estate_type', 'saon', 'paon', 'street', 'locality',\n",
      "       'town', 'district', 'county', 'transaction_category',\n",
      "       'linked_data_uri'],\n",
      "      dtype='object')\n"
     ]
    }
   ],
   "source": [
    "print(\"Dataframe head:\")\n",
    "print(df.head())\n",
    "\n",
    "print(\"Dataframe shape:\")\n",
    "print(df1.shape)\n",
    "print(df2.shape)\n",
    "print(df.shape )\n",
    "\n",
    "print(\"Dataframe columns:\")\n",
    "print(df.columns)\n"
   ]
  },
  {
   "cell_type": "markdown",
   "id": "02a2012a-c435-4929-9634-2b09c7325278",
   "metadata": {},
   "source": [
    "# Index of Property Market - Yearly Variation"
   ]
  },
  {
   "cell_type": "code",
   "execution_count": null,
   "id": "7a360e5f-a757-438f-b3a5-235e02c8a9a5",
   "metadata": {},
   "outputs": [],
   "source": []
  }
 ],
 "metadata": {
  "kernelspec": {
   "display_name": "Python 3",
   "language": "python",
   "name": "python3"
  },
  "language_info": {
   "codemirror_mode": {
    "name": "ipython",
    "version": 3
   },
   "file_extension": ".py",
   "mimetype": "text/x-python",
   "name": "python",
   "nbconvert_exporter": "python",
   "pygments_lexer": "ipython3",
   "version": "3.8.8"
  }
 },
 "nbformat": 4,
 "nbformat_minor": 5
}
