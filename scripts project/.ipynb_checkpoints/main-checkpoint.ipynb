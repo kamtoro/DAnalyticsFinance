{
 "cells": [
  {
   "cell_type": "code",
   "execution_count": null,
   "id": "8e43d7b3",
   "metadata": {},
   "outputs": [],
   "source": [
    "# Main Script to Load, Transform and Analyse data for Final Assigment"
   ]
  },
  {
   "cell_type": "code",
   "execution_count": 1,
   "id": "637f76b3",
   "metadata": {},
   "outputs": [],
   "source": [
    "## Data load from local file \"HM Land Registry - Price Paid Data property sales in Greater London - Raw Data.csv\""
   ]
  },
  {
   "cell_type": "code",
   "execution_count": 2,
   "id": "f0d79c7f",
   "metadata": {},
   "outputs": [
    {
     "name": "stdout",
     "output_type": "stream",
     "text": [
      "Dataframe head:\n",
      "                              unique_id  price_paid   deed_date postcode  \\\n",
      "0  9DBAD222-2B84-6EB3-E053-6B04A8C0F257      146000  06/01/2020  BR1 1AA   \n",
      "1  DE2D0CE0-1C9C-51EE-E053-6C04A8C00671      371000  18/03/2022  BR1 1AB   \n",
      "2  C18F412B-41D0-81A6-E053-6B04A8C0AD18      400000  12/02/2021  BR1 1AE   \n",
      "3  EC7AD09A-2622-9200-E053-6C04A8C0E306      300000  28/09/2022  BR1 1AF   \n",
      "4  E7B085FC-B50F-7E31-E053-6C04A8C0E67F      159000  10/06/2022  BR1 1BQ   \n",
      "\n",
      "  property_type new_build estate_type         saon                     paon  \\\n",
      "0             F         N           L      FLAT 19              HENRY HOUSE   \n",
      "1             F         N           L  APARTMENT 6  THE OLD POST OFFICE, 3B   \n",
      "2             F         N           L       FLAT 3         HAWKSWORTH HOUSE   \n",
      "3             F         N           L      FLAT 54            WILLIAM HOUSE   \n",
      "4             F         N           L      FLAT 15             NEWMAN COURT   \n",
      "\n",
      "         street locality     town district          county  \\\n",
      "0  RINGERS ROAD      NaN  BROMLEY  BROMLEY  GREATER LONDON   \n",
      "1   EAST STREET      NaN  BROMLEY  BROMLEY  GREATER LONDON   \n",
      "2     TETTY WAY      NaN  BROMLEY  BROMLEY  GREATER LONDON   \n",
      "3  RINGERS ROAD      NaN  BROMLEY  BROMLEY  GREATER LONDON   \n",
      "4  NORTH STREET      NaN  BROMLEY  BROMLEY  GREATER LONDON   \n",
      "\n",
      "  transaction_category                                    linked_data_uri  \n",
      "0                    A  http://landregistry.data.gov.uk/data/ppi/trans...  \n",
      "1                    A  http://landregistry.data.gov.uk/data/ppi/trans...  \n",
      "2                    A  http://landregistry.data.gov.uk/data/ppi/trans...  \n",
      "3                    A  http://landregistry.data.gov.uk/data/ppi/trans...  \n",
      "4                    A  http://landregistry.data.gov.uk/data/ppi/trans...  \n",
      "Dataframe shape:\n",
      "(287275, 16)\n",
      "Dataframe columns:\n",
      "Index(['unique_id', 'price_paid', 'deed_date', 'postcode', 'property_type',\n",
      "       'new_build', 'estate_type', 'saon', 'paon', 'street', 'locality',\n",
      "       'town', 'district', 'county', 'transaction_category',\n",
      "       'linked_data_uri'],\n",
      "      dtype='object')\n"
     ]
    },
    {
     "ename": "KeyError",
     "evalue": "'column_1'",
     "output_type": "error",
     "traceback": [
      "\u001b[1;31m---------------------------------------------------------------------------\u001b[0m",
      "\u001b[1;31mKeyError\u001b[0m                                  Traceback (most recent call last)",
      "\u001b[1;32mC:\\ProgramData\\Anaconda3\\lib\\site-packages\\pandas\\core\\indexes\\base.py\u001b[0m in \u001b[0;36mget_loc\u001b[1;34m(self, key, method, tolerance)\u001b[0m\n\u001b[0;32m   3079\u001b[0m             \u001b[1;32mtry\u001b[0m\u001b[1;33m:\u001b[0m\u001b[1;33m\u001b[0m\u001b[1;33m\u001b[0m\u001b[0m\n\u001b[1;32m-> 3080\u001b[1;33m                 \u001b[1;32mreturn\u001b[0m \u001b[0mself\u001b[0m\u001b[1;33m.\u001b[0m\u001b[0m_engine\u001b[0m\u001b[1;33m.\u001b[0m\u001b[0mget_loc\u001b[0m\u001b[1;33m(\u001b[0m\u001b[0mcasted_key\u001b[0m\u001b[1;33m)\u001b[0m\u001b[1;33m\u001b[0m\u001b[1;33m\u001b[0m\u001b[0m\n\u001b[0m\u001b[0;32m   3081\u001b[0m             \u001b[1;32mexcept\u001b[0m \u001b[0mKeyError\u001b[0m \u001b[1;32mas\u001b[0m \u001b[0merr\u001b[0m\u001b[1;33m:\u001b[0m\u001b[1;33m\u001b[0m\u001b[1;33m\u001b[0m\u001b[0m\n",
      "\u001b[1;32mpandas\\_libs\\index.pyx\u001b[0m in \u001b[0;36mpandas._libs.index.IndexEngine.get_loc\u001b[1;34m()\u001b[0m\n",
      "\u001b[1;32mpandas\\_libs\\index.pyx\u001b[0m in \u001b[0;36mpandas._libs.index.IndexEngine.get_loc\u001b[1;34m()\u001b[0m\n",
      "\u001b[1;32mpandas\\_libs\\hashtable_class_helper.pxi\u001b[0m in \u001b[0;36mpandas._libs.hashtable.PyObjectHashTable.get_item\u001b[1;34m()\u001b[0m\n",
      "\u001b[1;32mpandas\\_libs\\hashtable_class_helper.pxi\u001b[0m in \u001b[0;36mpandas._libs.hashtable.PyObjectHashTable.get_item\u001b[1;34m()\u001b[0m\n",
      "\u001b[1;31mKeyError\u001b[0m: 'column_1'",
      "\nThe above exception was the direct cause of the following exception:\n",
      "\u001b[1;31mKeyError\u001b[0m                                  Traceback (most recent call last)",
      "\u001b[1;32m<ipython-input-2-415f3faeda03>\u001b[0m in \u001b[0;36m<module>\u001b[1;34m\u001b[0m\n\u001b[0;32m     17\u001b[0m \u001b[1;33m\u001b[0m\u001b[0m\n\u001b[0;32m     18\u001b[0m \u001b[1;31m# Renaming\u001b[0m\u001b[1;33m\u001b[0m\u001b[1;33m\u001b[0m\u001b[1;33m\u001b[0m\u001b[0m\n\u001b[1;32m---> 19\u001b[1;33m \u001b[0mdf\u001b[0m\u001b[1;33m[\u001b[0m\u001b[1;34m\"new_column\"\u001b[0m\u001b[1;33m]\u001b[0m \u001b[1;33m=\u001b[0m \u001b[0mdf\u001b[0m\u001b[1;33m[\u001b[0m\u001b[1;34m\"column_1\"\u001b[0m\u001b[1;33m]\u001b[0m \u001b[1;33m+\u001b[0m \u001b[0mdf\u001b[0m\u001b[1;33m[\u001b[0m\u001b[1;34m\"column_2\"\u001b[0m\u001b[1;33m]\u001b[0m\u001b[1;33m\u001b[0m\u001b[1;33m\u001b[0m\u001b[0m\n\u001b[0m\u001b[0;32m     20\u001b[0m \u001b[1;33m\u001b[0m\u001b[0m\n\u001b[0;32m     21\u001b[0m \u001b[1;31m# Data analysis\u001b[0m\u001b[1;33m\u001b[0m\u001b[1;33m\u001b[0m\u001b[1;33m\u001b[0m\u001b[0m\n",
      "\u001b[1;32mC:\\ProgramData\\Anaconda3\\lib\\site-packages\\pandas\\core\\frame.py\u001b[0m in \u001b[0;36m__getitem__\u001b[1;34m(self, key)\u001b[0m\n\u001b[0;32m   3022\u001b[0m             \u001b[1;32mif\u001b[0m \u001b[0mself\u001b[0m\u001b[1;33m.\u001b[0m\u001b[0mcolumns\u001b[0m\u001b[1;33m.\u001b[0m\u001b[0mnlevels\u001b[0m \u001b[1;33m>\u001b[0m \u001b[1;36m1\u001b[0m\u001b[1;33m:\u001b[0m\u001b[1;33m\u001b[0m\u001b[1;33m\u001b[0m\u001b[0m\n\u001b[0;32m   3023\u001b[0m                 \u001b[1;32mreturn\u001b[0m \u001b[0mself\u001b[0m\u001b[1;33m.\u001b[0m\u001b[0m_getitem_multilevel\u001b[0m\u001b[1;33m(\u001b[0m\u001b[0mkey\u001b[0m\u001b[1;33m)\u001b[0m\u001b[1;33m\u001b[0m\u001b[1;33m\u001b[0m\u001b[0m\n\u001b[1;32m-> 3024\u001b[1;33m             \u001b[0mindexer\u001b[0m \u001b[1;33m=\u001b[0m \u001b[0mself\u001b[0m\u001b[1;33m.\u001b[0m\u001b[0mcolumns\u001b[0m\u001b[1;33m.\u001b[0m\u001b[0mget_loc\u001b[0m\u001b[1;33m(\u001b[0m\u001b[0mkey\u001b[0m\u001b[1;33m)\u001b[0m\u001b[1;33m\u001b[0m\u001b[1;33m\u001b[0m\u001b[0m\n\u001b[0m\u001b[0;32m   3025\u001b[0m             \u001b[1;32mif\u001b[0m \u001b[0mis_integer\u001b[0m\u001b[1;33m(\u001b[0m\u001b[0mindexer\u001b[0m\u001b[1;33m)\u001b[0m\u001b[1;33m:\u001b[0m\u001b[1;33m\u001b[0m\u001b[1;33m\u001b[0m\u001b[0m\n\u001b[0;32m   3026\u001b[0m                 \u001b[0mindexer\u001b[0m \u001b[1;33m=\u001b[0m \u001b[1;33m[\u001b[0m\u001b[0mindexer\u001b[0m\u001b[1;33m]\u001b[0m\u001b[1;33m\u001b[0m\u001b[1;33m\u001b[0m\u001b[0m\n",
      "\u001b[1;32mC:\\ProgramData\\Anaconda3\\lib\\site-packages\\pandas\\core\\indexes\\base.py\u001b[0m in \u001b[0;36mget_loc\u001b[1;34m(self, key, method, tolerance)\u001b[0m\n\u001b[0;32m   3080\u001b[0m                 \u001b[1;32mreturn\u001b[0m \u001b[0mself\u001b[0m\u001b[1;33m.\u001b[0m\u001b[0m_engine\u001b[0m\u001b[1;33m.\u001b[0m\u001b[0mget_loc\u001b[0m\u001b[1;33m(\u001b[0m\u001b[0mcasted_key\u001b[0m\u001b[1;33m)\u001b[0m\u001b[1;33m\u001b[0m\u001b[1;33m\u001b[0m\u001b[0m\n\u001b[0;32m   3081\u001b[0m             \u001b[1;32mexcept\u001b[0m \u001b[0mKeyError\u001b[0m \u001b[1;32mas\u001b[0m \u001b[0merr\u001b[0m\u001b[1;33m:\u001b[0m\u001b[1;33m\u001b[0m\u001b[1;33m\u001b[0m\u001b[0m\n\u001b[1;32m-> 3082\u001b[1;33m                 \u001b[1;32mraise\u001b[0m \u001b[0mKeyError\u001b[0m\u001b[1;33m(\u001b[0m\u001b[0mkey\u001b[0m\u001b[1;33m)\u001b[0m \u001b[1;32mfrom\u001b[0m \u001b[0merr\u001b[0m\u001b[1;33m\u001b[0m\u001b[1;33m\u001b[0m\u001b[0m\n\u001b[0m\u001b[0;32m   3083\u001b[0m \u001b[1;33m\u001b[0m\u001b[0m\n\u001b[0;32m   3084\u001b[0m         \u001b[1;32mif\u001b[0m \u001b[0mtolerance\u001b[0m \u001b[1;32mis\u001b[0m \u001b[1;32mnot\u001b[0m \u001b[1;32mNone\u001b[0m\u001b[1;33m:\u001b[0m\u001b[1;33m\u001b[0m\u001b[1;33m\u001b[0m\u001b[0m\n",
      "\u001b[1;31mKeyError\u001b[0m: 'column_1'"
     ]
    }
   ],
   "source": [
    "# Import required libraries\n",
    "import pandas as pd\n",
    "import numpy as np\n",
    "\n",
    "# Load data from CSV file\n",
    "df1 = pd.read_csv(\"Property sales in Greater London - 2018 - 2019.csv\")\n",
    "df2 = pd.read_csv(\"Property sales in Greater London - 2020 - 2023.csv\")\n",
    "\n",
    "# Explore the data\n",
    "print(\"Dataframe head:\")\n",
    "print(df.head())\n",
    "\n",
    "print(\"Dataframe shape:\")\n",
    "print(df.shape)\n",
    "\n",
    "print(\"Dataframe columns:\")\n",
    "print(df.columns)\n",
    "\n",
    "# Renaming \n",
    "df[\"new_column\"] = df[\"column_1\"] + df[\"column_2\"]\n",
    "\n",
    "# Data analysis\n",
    "mean_column_1 = np.mean(df[\"column_1\"])\n",
    "max_column_2 = np.max(df[\"column_2\"])\n",
    "\n",
    "print(\"Mean of column_1:\", mean_column_1)\n",
    "print(\"Max of column_2:\", max_column_2)\n",
    "\n",
    "file = 'HM Land Registry - Price Paid Data property sales in Greater London - Raw Data.csv'"
   ]
  },
  {
   "cell_type": "code",
   "execution_count": null,
   "id": "d0252ff5",
   "metadata": {},
   "outputs": [],
   "source": []
  }
 ],
 "metadata": {
  "kernelspec": {
   "display_name": "Python 3",
   "language": "python",
   "name": "python3"
  },
  "language_info": {
   "codemirror_mode": {
    "name": "ipython",
    "version": 3
   },
   "file_extension": ".py",
   "mimetype": "text/x-python",
   "name": "python",
   "nbconvert_exporter": "python",
   "pygments_lexer": "ipython3",
   "version": "3.8.8"
  }
 },
 "nbformat": 4,
 "nbformat_minor": 5
}
